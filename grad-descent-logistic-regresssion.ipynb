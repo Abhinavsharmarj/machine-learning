{
 "cells": [
  {
   "cell_type": "markdown",
   "metadata": {},
   "source": [
    "## Gradient Descent for Logistic regression\n",
    "\n",
    "cost function --> sum of loss function for each line / length of train data\n",
    "\n",
    "where\n",
    "\n",
    "loss function --> -y log(fx) - (1-y) (1- log(fx))\n",
    "\n",
    "here\n",
    "\n",
    "fx = gz\n",
    "\n",
    "z = w.x + b\n",
    "\n",
    "gz = 1/ (1 + e^ (-z))\n",
    "\n",
    "### compute gradient\n",
    "\n",
    "d (loss funct)/ db = (predicted_y - y)/m\n",
    "d (loss funct)/ dw = (predicted_y - y)(x)/m\n",
    "\n",
    "\n",
    "\n"
   ]
  },
  {
   "cell_type": "code",
   "execution_count": 1,
   "metadata": {},
   "outputs": [],
   "source": [
    "import numpy as np"
   ]
  },
  {
   "cell_type": "code",
   "execution_count": 2,
   "metadata": {},
   "outputs": [],
   "source": [
    "def sigmoid(x,w,b):\n",
    "    z = np.dot(x,w) + b\n",
    "\n",
    "    gz = 1/(1+np.exp(-z))\n",
    "\n",
    "    return gz"
   ]
  },
  {
   "cell_type": "code",
   "execution_count": 3,
   "metadata": {},
   "outputs": [],
   "source": [
    "def compute_cost(x,y,w,b):\n",
    "\n",
    "    predicted_y = sigmoid(x,w,b)\n",
    "\n",
    "    total_cost = 0\n",
    "\n",
    "    for i in range(len(x)):\n",
    "        total_cost += (-y[i]*np.log(predicted_y[i]) - (1-y[i])*np.log(1-predicted_y[i]))/len(x)\n",
    "\n",
    "    return total_cost\n"
   ]
  },
  {
   "cell_type": "code",
   "execution_count": 4,
   "metadata": {},
   "outputs": [],
   "source": [
    "def compute_gradient(x,y,w,b):\n",
    "\n",
    "    predicted_y = sigmoid(x,w,b)\n",
    "\n",
    "    grad_w = x.shape()[1]\n",
    "    grad_b = 0\n",
    "\n",
    "    for i in range(len(x)):\n",
    "        for j in range(len(x[i])):\n",
    "            grad_w[j] += (predicted_y[i]-y[i])*x[i][j]\n",
    "        grad_b += predicted_y[i] - y[i]\n",
    "\n",
    "    return grad_w,grad_b"
   ]
  },
  {
   "cell_type": "code",
   "execution_count": 6,
   "metadata": {},
   "outputs": [
    {
     "data": {
      "text/plain": [
       "0.5"
      ]
     },
     "execution_count": 6,
     "metadata": {},
     "output_type": "execute_result"
    }
   ],
   "source": [
    "sigmoid(0,0,0)"
   ]
  },
  {
   "cell_type": "code",
   "execution_count": null,
   "metadata": {},
   "outputs": [],
   "source": []
  }
 ],
 "metadata": {
  "kernelspec": {
   "display_name": "Python 3.11.0 64-bit",
   "language": "python",
   "name": "python3"
  },
  "language_info": {
   "codemirror_mode": {
    "name": "ipython",
    "version": 3
   },
   "file_extension": ".py",
   "mimetype": "text/x-python",
   "name": "python",
   "nbconvert_exporter": "python",
   "pygments_lexer": "ipython3",
   "version": "3.11.0"
  },
  "orig_nbformat": 4,
  "vscode": {
   "interpreter": {
    "hash": "1a1af0ee75eeea9e2e1ee996c87e7a2b11a0bebd85af04bb136d915cefc0abce"
   }
  }
 },
 "nbformat": 4,
 "nbformat_minor": 2
}
