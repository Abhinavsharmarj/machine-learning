{
 "cells": [
  {
   "cell_type": "markdown",
   "metadata": {},
   "source": [
    "## Gradient Descent for Logistic regression\n",
    "\n",
    "cost function --> sum of loss function for each line / length of train data\n",
    "\n",
    "where\n",
    "\n",
    "loss function --> -y log(fx) - (1-y) (1- log(fx))\n",
    "\n",
    "here\n",
    "\n",
    "fx = gz\n",
    "\n",
    "z = w.x + b\n",
    "\n",
    "gz = 1/ (1 + e^ (-z))\n",
    "\n",
    "### compute gradient\n",
    "\n",
    "d (loss funct)/ db = (predicted_y - y)/m\n",
    "d (loss funct)/ dw = (predicted_y - y)(x)/m\n",
    "\n",
    "\n",
    "\n"
   ]
  },
  {
   "cell_type": "code",
   "execution_count": 1,
   "metadata": {},
   "outputs": [],
   "source": [
    "import numpy as np"
   ]
  },
  {
   "cell_type": "code",
   "execution_count": null,
   "metadata": {},
   "outputs": [],
   "source": []
  }
 ],
 "metadata": {
  "kernelspec": {
   "display_name": "Python 3.11.0 64-bit",
   "language": "python",
   "name": "python3"
  },
  "language_info": {
   "codemirror_mode": {
    "name": "ipython",
    "version": 3
   },
   "file_extension": ".py",
   "mimetype": "text/x-python",
   "name": "python",
   "nbconvert_exporter": "python",
   "pygments_lexer": "ipython3",
   "version": "3.11.0"
  },
  "orig_nbformat": 4,
  "vscode": {
   "interpreter": {
    "hash": "1a1af0ee75eeea9e2e1ee996c87e7a2b11a0bebd85af04bb136d915cefc0abce"
   }
  }
 },
 "nbformat": 4,
 "nbformat_minor": 2
}
